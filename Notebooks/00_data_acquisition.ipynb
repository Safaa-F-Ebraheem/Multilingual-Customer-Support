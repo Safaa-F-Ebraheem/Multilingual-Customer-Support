{
  "nbformat": 4,
  "nbformat_minor": 0,
  "metadata": {
    "colab": {
      "provenance": [],
      "authorship_tag": "ABX9TyMKYMLpbVoTCDT22QspvwJs",
      "include_colab_link": true
    },
    "kernelspec": {
      "name": "python3",
      "display_name": "Python 3"
    },
    "language_info": {
      "name": "python"
    }
  },
  "cells": [
    {
      "cell_type": "markdown",
      "metadata": {
        "id": "view-in-github",
        "colab_type": "text"
      },
      "source": [
        "<a href=\"https://colab.research.google.com/github/Safaa-F-Ebraheem/Multilingual-Customer-Support/blob/main/00_data_acquisition.ipynb\" target=\"_parent\"><img src=\"https://colab.research.google.com/assets/colab-badge.svg\" alt=\"Open In Colab\"/></a>"
      ]
    },
    {
      "cell_type": "markdown",
      "source": [
        "## Developed a web scraping script to collect customer reviews from a Trustpilot page for Vodafone"
      ],
      "metadata": {
        "id": "M_CCgxImGRmY"
      }
    },
    {
      "cell_type": "markdown",
      "source": [
        "### Used the \"requests\" library to send an HTTP GET request to the Trustpilot review page for Vodafone, retrieving the HTML content of the page."
      ],
      "metadata": {
        "id": "AKcAYFS5Gj7g"
      }
    },
    {
      "cell_type": "code",
      "source": [
        "from bs4 import BeautifulSoup\n",
        "import requests\n",
        "import time\n",
        "\n",
        "base_url = 'https://www.trustpilot.com/review/www.vodafone.co.uk'\n",
        "response = requests.get(base_url)"
      ],
      "metadata": {
        "id": "BPoCarojGdF3"
      },
      "execution_count": null,
      "outputs": []
    },
    {
      "cell_type": "markdown",
      "source": [
        "### The \"BeautifulSoup\" library was employed to parse the HTML content. Navigate the page structure and extract relevant data."
      ],
      "metadata": {
        "id": "2j4XquU_G5_B"
      }
    },
    {
      "cell_type": "code",
      "source": [
        "soup = BeautifulSoup(response.text, 'html.parser')"
      ],
      "metadata": {
        "id": "dKcNER8qHFA5"
      },
      "execution_count": null,
      "outputs": []
    },
    {
      "cell_type": "markdown",
      "source": [
        "### A function was defined to locate review containers within the HTML. Extracted the review titles and content from these containers by identifying appropriate HTML tags and class names."
      ],
      "metadata": {
        "id": "p0twBLsCHIWn"
      }
    },
    {
      "cell_type": "code",
      "source": [
        "def extract_reviews(soup):\n",
        "    reviews = []\n",
        "    review_containers = soup.find_all('div', class_='styles_cardWrapper__LcCPA styles_show__HUXRb styles_reviewCard__9HxJJ')\n",
        "    for container in review_containers:\n",
        "        title = container.find('h2').text.strip()\n",
        "        content = container.find('p').text.strip()\n",
        "        reviews.append({'title': title, 'content': content})\n",
        "    return reviews\n",
        "\n",
        "reviews = extract_reviews(soup)"
      ],
      "metadata": {
        "id": "DQrhkVKN8AWH"
      },
      "execution_count": null,
      "outputs": []
    },
    {
      "cell_type": "code",
      "source": [
        "def get_reviews_from_page(url):\n",
        "    response = requests.get(url)\n",
        "    soup = BeautifulSoup(response.text, 'html.parser')\n",
        "    return extract_reviews(soup)"
      ],
      "metadata": {
        "id": "3fXsPKS2TabG"
      },
      "execution_count": null,
      "outputs": []
    },
    {
      "cell_type": "code",
      "source": [
        "\n",
        "def get_all_reviews(base_url):\n",
        "    page_number = 1\n",
        "    while True:\n",
        "        print(f\"Scraping page {page_number}\")\n",
        "        url = f\"{base_url}?page={page_number}\"\n",
        "        page_reviews = get_reviews_from_page(url)\n",
        "\n",
        "        if not page_reviews:\n",
        "            break\n",
        "\n",
        "        reviews.extend(page_reviews)\n",
        "        page_number += 1\n",
        "\n",
        "        time.sleep(1)  # Respectful crawling: avoid hitting the server too frequently\n"
      ],
      "metadata": {
        "id": "dcWI58i1Tbs-"
      },
      "execution_count": null,
      "outputs": []
    },
    {
      "cell_type": "code",
      "source": [
        "get_all_reviews(base_url)"
      ],
      "metadata": {
        "colab": {
          "base_uri": "https://localhost:8080/"
        },
        "id": "6WlJI8-OThMf",
        "outputId": "d464e4e1-3589-433f-d777-84ddf501a3cf"
      },
      "execution_count": null,
      "outputs": [
        {
          "output_type": "stream",
          "name": "stdout",
          "text": [
            "Scraping page 1\n",
            "Scraping page 2\n",
            "Scraping page 3\n",
            "Scraping page 4\n",
            "Scraping page 5\n",
            "Scraping page 6\n",
            "Scraping page 7\n",
            "Scraping page 8\n",
            "Scraping page 9\n",
            "Scraping page 10\n",
            "Scraping page 11\n",
            "Scraping page 12\n",
            "Scraping page 13\n",
            "Scraping page 14\n",
            "Scraping page 15\n",
            "Scraping page 16\n",
            "Scraping page 17\n",
            "Scraping page 18\n",
            "Scraping page 19\n",
            "Scraping page 20\n",
            "Scraping page 21\n",
            "Scraping page 22\n",
            "Scraping page 23\n",
            "Scraping page 24\n",
            "Scraping page 25\n",
            "Scraping page 26\n",
            "Scraping page 27\n",
            "Scraping page 28\n",
            "Scraping page 29\n",
            "Scraping page 30\n",
            "Scraping page 31\n",
            "Scraping page 32\n",
            "Scraping page 33\n",
            "Scraping page 34\n",
            "Scraping page 35\n",
            "Scraping page 36\n",
            "Scraping page 37\n",
            "Scraping page 38\n",
            "Scraping page 39\n",
            "Scraping page 40\n",
            "Scraping page 41\n",
            "Scraping page 42\n",
            "Scraping page 43\n",
            "Scraping page 44\n",
            "Scraping page 45\n",
            "Scraping page 46\n",
            "Scraping page 47\n",
            "Scraping page 48\n",
            "Scraping page 49\n",
            "Scraping page 50\n",
            "Scraping page 51\n",
            "Scraping page 52\n",
            "Scraping page 53\n",
            "Scraping page 54\n",
            "Scraping page 55\n",
            "Scraping page 56\n",
            "Scraping page 57\n",
            "Scraping page 58\n",
            "Scraping page 59\n",
            "Scraping page 60\n",
            "Scraping page 61\n",
            "Scraping page 62\n",
            "Scraping page 63\n",
            "Scraping page 64\n",
            "Scraping page 65\n",
            "Scraping page 66\n",
            "Scraping page 67\n",
            "Scraping page 68\n",
            "Scraping page 69\n",
            "Scraping page 70\n",
            "Scraping page 71\n",
            "Scraping page 72\n",
            "Scraping page 73\n",
            "Scraping page 74\n",
            "Scraping page 75\n",
            "Scraping page 76\n",
            "Scraping page 77\n",
            "Scraping page 78\n",
            "Scraping page 79\n",
            "Scraping page 80\n",
            "Scraping page 81\n",
            "Scraping page 82\n",
            "Scraping page 83\n",
            "Scraping page 84\n",
            "Scraping page 85\n",
            "Scraping page 86\n",
            "Scraping page 87\n",
            "Scraping page 88\n",
            "Scraping page 89\n",
            "Scraping page 90\n",
            "Scraping page 91\n",
            "Scraping page 92\n",
            "Scraping page 93\n",
            "Scraping page 94\n",
            "Scraping page 95\n",
            "Scraping page 96\n",
            "Scraping page 97\n",
            "Scraping page 98\n",
            "Scraping page 99\n",
            "Scraping page 100\n",
            "Scraping page 101\n",
            "Scraping page 102\n",
            "Scraping page 103\n",
            "Scraping page 104\n",
            "Scraping page 105\n",
            "Scraping page 106\n",
            "Scraping page 107\n",
            "Scraping page 108\n",
            "Scraping page 109\n",
            "Scraping page 110\n",
            "Scraping page 111\n",
            "Scraping page 112\n",
            "Scraping page 113\n",
            "Scraping page 114\n",
            "Scraping page 115\n",
            "Scraping page 116\n",
            "Scraping page 117\n",
            "Scraping page 118\n",
            "Scraping page 119\n",
            "Scraping page 120\n",
            "Scraping page 121\n",
            "Scraping page 122\n",
            "Scraping page 123\n",
            "Scraping page 124\n",
            "Scraping page 125\n",
            "Scraping page 126\n",
            "Scraping page 127\n",
            "Scraping page 128\n",
            "Scraping page 129\n",
            "Scraping page 130\n",
            "Scraping page 131\n",
            "Scraping page 132\n",
            "Scraping page 133\n",
            "Scraping page 134\n",
            "Scraping page 135\n",
            "Scraping page 136\n",
            "Scraping page 137\n",
            "Scraping page 138\n",
            "Scraping page 139\n",
            "Scraping page 140\n",
            "Scraping page 141\n",
            "Scraping page 142\n",
            "Scraping page 143\n",
            "Scraping page 144\n"
          ]
        }
      ]
    },
    {
      "cell_type": "markdown",
      "source": [
        "###  Then used the pandas library to convert this list into a DataFrame"
      ],
      "metadata": {
        "id": "h5RQdD1VH9Kw"
      }
    },
    {
      "cell_type": "code",
      "source": [
        "import pandas as pd\n",
        "\n",
        "df = pd.DataFrame(reviews)\n",
        "\n",
        "df.to_csv('reviews.csv', index=False)\n",
        "\n",
        "print(\"Data saved to reviews.csv\")\n"
      ],
      "metadata": {
        "colab": {
          "base_uri": "https://localhost:8080/"
        },
        "id": "Qm8aqR6h_RSr",
        "outputId": "328e121f-0cff-461b-86ec-d6641618c42c"
      },
      "execution_count": null,
      "outputs": [
        {
          "output_type": "stream",
          "name": "stdout",
          "text": [
            "Data saved to reviews.csv\n"
          ]
        }
      ]
    },
    {
      "cell_type": "code",
      "source": [
        "df.head()"
      ],
      "metadata": {
        "colab": {
          "base_uri": "https://localhost:8080/",
          "height": 206
        },
        "id": "-McnqhxyB5Ue",
        "outputId": "9420fcee-9d7a-4bd9-dd43-147a8cd8adcf"
      },
      "execution_count": null,
      "outputs": [
        {
          "output_type": "execute_result",
          "data": {
            "text/plain": [
              "                                               title  \\\n",
              "0  I upgraded my phone today in Vodafone Poole store   \n",
              "1            Excellent in store experience with Leah   \n",
              "2             Brilliant customer service from Craig…   \n",
              "3              Just been served today by Kitsana at…   \n",
              "4  Karina is very customer needs focused sales pe...   \n",
              "\n",
              "                                             content  \n",
              "0  I upgraded my phone today in Vodafone Poole,Do...  \n",
              "1  Leah was very patient with us when deciding/ch...  \n",
              "2  Brilliant customer service from Craig today. N...  \n",
              "3  Just been served today by Kitsana at DARLINGTO...  \n",
              "4  I have been served by Karina, who is a wondefu...  "
            ],
            "text/html": [
              "\n",
              "  <div id=\"df-001f03de-cdfe-43c9-ae93-bfbbb2c57530\" class=\"colab-df-container\">\n",
              "    <div>\n",
              "<style scoped>\n",
              "    .dataframe tbody tr th:only-of-type {\n",
              "        vertical-align: middle;\n",
              "    }\n",
              "\n",
              "    .dataframe tbody tr th {\n",
              "        vertical-align: top;\n",
              "    }\n",
              "\n",
              "    .dataframe thead th {\n",
              "        text-align: right;\n",
              "    }\n",
              "</style>\n",
              "<table border=\"1\" class=\"dataframe\">\n",
              "  <thead>\n",
              "    <tr style=\"text-align: right;\">\n",
              "      <th></th>\n",
              "      <th>title</th>\n",
              "      <th>content</th>\n",
              "    </tr>\n",
              "  </thead>\n",
              "  <tbody>\n",
              "    <tr>\n",
              "      <th>0</th>\n",
              "      <td>I upgraded my phone today in Vodafone Poole store</td>\n",
              "      <td>I upgraded my phone today in Vodafone Poole,Do...</td>\n",
              "    </tr>\n",
              "    <tr>\n",
              "      <th>1</th>\n",
              "      <td>Excellent in store experience with Leah</td>\n",
              "      <td>Leah was very patient with us when deciding/ch...</td>\n",
              "    </tr>\n",
              "    <tr>\n",
              "      <th>2</th>\n",
              "      <td>Brilliant customer service from Craig…</td>\n",
              "      <td>Brilliant customer service from Craig today. N...</td>\n",
              "    </tr>\n",
              "    <tr>\n",
              "      <th>3</th>\n",
              "      <td>Just been served today by Kitsana at…</td>\n",
              "      <td>Just been served today by Kitsana at DARLINGTO...</td>\n",
              "    </tr>\n",
              "    <tr>\n",
              "      <th>4</th>\n",
              "      <td>Karina is very customer needs focused sales pe...</td>\n",
              "      <td>I have been served by Karina, who is a wondefu...</td>\n",
              "    </tr>\n",
              "  </tbody>\n",
              "</table>\n",
              "</div>\n",
              "    <div class=\"colab-df-buttons\">\n",
              "\n",
              "  <div class=\"colab-df-container\">\n",
              "    <button class=\"colab-df-convert\" onclick=\"convertToInteractive('df-001f03de-cdfe-43c9-ae93-bfbbb2c57530')\"\n",
              "            title=\"Convert this dataframe to an interactive table.\"\n",
              "            style=\"display:none;\">\n",
              "\n",
              "  <svg xmlns=\"http://www.w3.org/2000/svg\" height=\"24px\" viewBox=\"0 -960 960 960\">\n",
              "    <path d=\"M120-120v-720h720v720H120Zm60-500h600v-160H180v160Zm220 220h160v-160H400v160Zm0 220h160v-160H400v160ZM180-400h160v-160H180v160Zm440 0h160v-160H620v160ZM180-180h160v-160H180v160Zm440 0h160v-160H620v160Z\"/>\n",
              "  </svg>\n",
              "    </button>\n",
              "\n",
              "  <style>\n",
              "    .colab-df-container {\n",
              "      display:flex;\n",
              "      gap: 12px;\n",
              "    }\n",
              "\n",
              "    .colab-df-convert {\n",
              "      background-color: #E8F0FE;\n",
              "      border: none;\n",
              "      border-radius: 50%;\n",
              "      cursor: pointer;\n",
              "      display: none;\n",
              "      fill: #1967D2;\n",
              "      height: 32px;\n",
              "      padding: 0 0 0 0;\n",
              "      width: 32px;\n",
              "    }\n",
              "\n",
              "    .colab-df-convert:hover {\n",
              "      background-color: #E2EBFA;\n",
              "      box-shadow: 0px 1px 2px rgba(60, 64, 67, 0.3), 0px 1px 3px 1px rgba(60, 64, 67, 0.15);\n",
              "      fill: #174EA6;\n",
              "    }\n",
              "\n",
              "    .colab-df-buttons div {\n",
              "      margin-bottom: 4px;\n",
              "    }\n",
              "\n",
              "    [theme=dark] .colab-df-convert {\n",
              "      background-color: #3B4455;\n",
              "      fill: #D2E3FC;\n",
              "    }\n",
              "\n",
              "    [theme=dark] .colab-df-convert:hover {\n",
              "      background-color: #434B5C;\n",
              "      box-shadow: 0px 1px 3px 1px rgba(0, 0, 0, 0.15);\n",
              "      filter: drop-shadow(0px 1px 2px rgba(0, 0, 0, 0.3));\n",
              "      fill: #FFFFFF;\n",
              "    }\n",
              "  </style>\n",
              "\n",
              "    <script>\n",
              "      const buttonEl =\n",
              "        document.querySelector('#df-001f03de-cdfe-43c9-ae93-bfbbb2c57530 button.colab-df-convert');\n",
              "      buttonEl.style.display =\n",
              "        google.colab.kernel.accessAllowed ? 'block' : 'none';\n",
              "\n",
              "      async function convertToInteractive(key) {\n",
              "        const element = document.querySelector('#df-001f03de-cdfe-43c9-ae93-bfbbb2c57530');\n",
              "        const dataTable =\n",
              "          await google.colab.kernel.invokeFunction('convertToInteractive',\n",
              "                                                    [key], {});\n",
              "        if (!dataTable) return;\n",
              "\n",
              "        const docLinkHtml = 'Like what you see? Visit the ' +\n",
              "          '<a target=\"_blank\" href=https://colab.research.google.com/notebooks/data_table.ipynb>data table notebook</a>'\n",
              "          + ' to learn more about interactive tables.';\n",
              "        element.innerHTML = '';\n",
              "        dataTable['output_type'] = 'display_data';\n",
              "        await google.colab.output.renderOutput(dataTable, element);\n",
              "        const docLink = document.createElement('div');\n",
              "        docLink.innerHTML = docLinkHtml;\n",
              "        element.appendChild(docLink);\n",
              "      }\n",
              "    </script>\n",
              "  </div>\n",
              "\n",
              "\n",
              "<div id=\"df-7bd5c264-e91b-4d4c-8e10-f9ef91a42848\">\n",
              "  <button class=\"colab-df-quickchart\" onclick=\"quickchart('df-7bd5c264-e91b-4d4c-8e10-f9ef91a42848')\"\n",
              "            title=\"Suggest charts\"\n",
              "            style=\"display:none;\">\n",
              "\n",
              "<svg xmlns=\"http://www.w3.org/2000/svg\" height=\"24px\"viewBox=\"0 0 24 24\"\n",
              "     width=\"24px\">\n",
              "    <g>\n",
              "        <path d=\"M19 3H5c-1.1 0-2 .9-2 2v14c0 1.1.9 2 2 2h14c1.1 0 2-.9 2-2V5c0-1.1-.9-2-2-2zM9 17H7v-7h2v7zm4 0h-2V7h2v10zm4 0h-2v-4h2v4z\"/>\n",
              "    </g>\n",
              "</svg>\n",
              "  </button>\n",
              "\n",
              "<style>\n",
              "  .colab-df-quickchart {\n",
              "      --bg-color: #E8F0FE;\n",
              "      --fill-color: #1967D2;\n",
              "      --hover-bg-color: #E2EBFA;\n",
              "      --hover-fill-color: #174EA6;\n",
              "      --disabled-fill-color: #AAA;\n",
              "      --disabled-bg-color: #DDD;\n",
              "  }\n",
              "\n",
              "  [theme=dark] .colab-df-quickchart {\n",
              "      --bg-color: #3B4455;\n",
              "      --fill-color: #D2E3FC;\n",
              "      --hover-bg-color: #434B5C;\n",
              "      --hover-fill-color: #FFFFFF;\n",
              "      --disabled-bg-color: #3B4455;\n",
              "      --disabled-fill-color: #666;\n",
              "  }\n",
              "\n",
              "  .colab-df-quickchart {\n",
              "    background-color: var(--bg-color);\n",
              "    border: none;\n",
              "    border-radius: 50%;\n",
              "    cursor: pointer;\n",
              "    display: none;\n",
              "    fill: var(--fill-color);\n",
              "    height: 32px;\n",
              "    padding: 0;\n",
              "    width: 32px;\n",
              "  }\n",
              "\n",
              "  .colab-df-quickchart:hover {\n",
              "    background-color: var(--hover-bg-color);\n",
              "    box-shadow: 0 1px 2px rgba(60, 64, 67, 0.3), 0 1px 3px 1px rgba(60, 64, 67, 0.15);\n",
              "    fill: var(--button-hover-fill-color);\n",
              "  }\n",
              "\n",
              "  .colab-df-quickchart-complete:disabled,\n",
              "  .colab-df-quickchart-complete:disabled:hover {\n",
              "    background-color: var(--disabled-bg-color);\n",
              "    fill: var(--disabled-fill-color);\n",
              "    box-shadow: none;\n",
              "  }\n",
              "\n",
              "  .colab-df-spinner {\n",
              "    border: 2px solid var(--fill-color);\n",
              "    border-color: transparent;\n",
              "    border-bottom-color: var(--fill-color);\n",
              "    animation:\n",
              "      spin 1s steps(1) infinite;\n",
              "  }\n",
              "\n",
              "  @keyframes spin {\n",
              "    0% {\n",
              "      border-color: transparent;\n",
              "      border-bottom-color: var(--fill-color);\n",
              "      border-left-color: var(--fill-color);\n",
              "    }\n",
              "    20% {\n",
              "      border-color: transparent;\n",
              "      border-left-color: var(--fill-color);\n",
              "      border-top-color: var(--fill-color);\n",
              "    }\n",
              "    30% {\n",
              "      border-color: transparent;\n",
              "      border-left-color: var(--fill-color);\n",
              "      border-top-color: var(--fill-color);\n",
              "      border-right-color: var(--fill-color);\n",
              "    }\n",
              "    40% {\n",
              "      border-color: transparent;\n",
              "      border-right-color: var(--fill-color);\n",
              "      border-top-color: var(--fill-color);\n",
              "    }\n",
              "    60% {\n",
              "      border-color: transparent;\n",
              "      border-right-color: var(--fill-color);\n",
              "    }\n",
              "    80% {\n",
              "      border-color: transparent;\n",
              "      border-right-color: var(--fill-color);\n",
              "      border-bottom-color: var(--fill-color);\n",
              "    }\n",
              "    90% {\n",
              "      border-color: transparent;\n",
              "      border-bottom-color: var(--fill-color);\n",
              "    }\n",
              "  }\n",
              "</style>\n",
              "\n",
              "  <script>\n",
              "    async function quickchart(key) {\n",
              "      const quickchartButtonEl =\n",
              "        document.querySelector('#' + key + ' button');\n",
              "      quickchartButtonEl.disabled = true;  // To prevent multiple clicks.\n",
              "      quickchartButtonEl.classList.add('colab-df-spinner');\n",
              "      try {\n",
              "        const charts = await google.colab.kernel.invokeFunction(\n",
              "            'suggestCharts', [key], {});\n",
              "      } catch (error) {\n",
              "        console.error('Error during call to suggestCharts:', error);\n",
              "      }\n",
              "      quickchartButtonEl.classList.remove('colab-df-spinner');\n",
              "      quickchartButtonEl.classList.add('colab-df-quickchart-complete');\n",
              "    }\n",
              "    (() => {\n",
              "      let quickchartButtonEl =\n",
              "        document.querySelector('#df-7bd5c264-e91b-4d4c-8e10-f9ef91a42848 button');\n",
              "      quickchartButtonEl.style.display =\n",
              "        google.colab.kernel.accessAllowed ? 'block' : 'none';\n",
              "    })();\n",
              "  </script>\n",
              "</div>\n",
              "\n",
              "    </div>\n",
              "  </div>\n"
            ],
            "application/vnd.google.colaboratory.intrinsic+json": {
              "type": "dataframe",
              "variable_name": "df",
              "summary": "{\n  \"name\": \"df\",\n  \"rows\": 2880,\n  \"fields\": [\n    {\n      \"column\": \"title\",\n      \"properties\": {\n        \"dtype\": \"string\",\n        \"num_unique_values\": 2663,\n        \"samples\": [\n          \"Brilliant support\",\n          \"Erik look after all my needs\",\n          \"Demi was so so helpful with sorting out\\u2026\"\n        ],\n        \"semantic_type\": \"\",\n        \"description\": \"\"\n      }\n    },\n    {\n      \"column\": \"content\",\n      \"properties\": {\n        \"dtype\": \"string\",\n        \"num_unique_values\": 2739,\n        \"samples\": [\n          \"We were warmly greeted as we walked in.  The Adviser understood our problem and tried to resolve it without pushing us to upgrade our contract for a new phone.  Eventually we decided that an upgrade was the only option.  Again he understood that we didn't want to spend a lot more money than our current contract and found us the best deal possible.  He explained everything well and invited us to return if we had any problems\",\n          \"Spoke to a lovely lady in store called ValVery helpful , very informative and answered all of my questions.\",\n          \"Adam helped me save out money on my phone plan, Ed was very helpful aswell when dealing with my issues.\"\n        ],\n        \"semantic_type\": \"\",\n        \"description\": \"\"\n      }\n    }\n  ]\n}"
            }
          },
          "metadata": {},
          "execution_count": 49
        }
      ]
    },
    {
      "cell_type": "code",
      "source": [
        "df.shape"
      ],
      "metadata": {
        "colab": {
          "base_uri": "https://localhost:8080/"
        },
        "id": "wD6PXTdAB7L1",
        "outputId": "9d372504-f53a-46aa-a7a8-a2c57a7bfd6d"
      },
      "execution_count": null,
      "outputs": [
        {
          "output_type": "execute_result",
          "data": {
            "text/plain": [
              "(2880, 2)"
            ]
          },
          "metadata": {},
          "execution_count": 50
        }
      ]
    },
    {
      "cell_type": "code",
      "source": [],
      "metadata": {
        "id": "NXNJlgqSI6UM"
      },
      "execution_count": null,
      "outputs": []
    }
  ]
}
